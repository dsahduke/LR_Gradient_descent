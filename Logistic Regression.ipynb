{
 "cells": [
  {
   "cell_type": "code",
   "execution_count": 3,
   "metadata": {
    "slideshow": {
     "slide_type": "slide"
    }
   },
   "outputs": [],
   "source": [
    "import numpy as np\n",
    "import matplotlib.pyplot as plt"
   ]
  },
  {
   "cell_type": "markdown",
   "metadata": {
    "slideshow": {
     "slide_type": "slide"
    }
   },
   "source": [
    "# Classification"
   ]
  },
  {
   "cell_type": "markdown",
   "metadata": {
    "slideshow": {
     "slide_type": "fragment"
    }
   },
   "source": [
    "In supervised machine learning, we have some data, $X$ and some labels $y$ associated with $X$. The goal is learn a mapping f(X) -> y. "
   ]
  },
  {
   "cell_type": "markdown",
   "metadata": {
    "slideshow": {
     "slide_type": "subslide"
    }
   },
   "source": [
    "If y is a continuous variable, this type of procedure is known as regression. However, if y takes on discrete values, such as 1 or 0, or one of $k$ values, this procedure is known as classification. In the special case where there are only 2 states that y can take, this is known as binary classification"
   ]
  },
  {
   "cell_type": "markdown",
   "metadata": {
    "slideshow": {
     "slide_type": "slide"
    }
   },
   "source": [
    "In many cases, we'd like y to represent the probability of an event occuring. We could use linear regression to do this!"
   ]
  },
  {
   "cell_type": "markdown",
   "metadata": {
    "slideshow": {
     "slide_type": "slide"
    }
   },
   "source": [
    "![](./assets/notlinear.png)\n",
    "ISL: http://www-bcf.usc.edu/~gareth/ISL"
   ]
  },
  {
   "cell_type": "markdown",
   "metadata": {
    "slideshow": {
     "slide_type": "slide"
    }
   },
   "source": [
    "# Logistic Regression"
   ]
  },
  {
   "cell_type": "markdown",
   "metadata": {
    "slideshow": {
     "slide_type": "fragment"
    }
   },
   "source": [
    "Logistic regression is one of the most popular binary classification algorithms and is related to linear regression. It belongs to a class of models known as *generalized linear models* or GLMs. "
   ]
  },
  {
   "cell_type": "markdown",
   "metadata": {
    "slideshow": {
     "slide_type": "slide"
    }
   },
   "source": [
    "## The Logistic Function\n"
   ]
  },
  {
   "cell_type": "markdown",
   "metadata": {
    "slideshow": {
     "slide_type": "subslide"
    }
   },
   "source": [
    "Before we see the full model specification for logistic regression, let's first take a look at the logistic function, from which logistic regression derives its name. "
   ]
  },
  {
   "cell_type": "markdown",
   "metadata": {
    "slideshow": {
     "slide_type": "fragment"
    }
   },
   "source": [
    "$$\\sigma(x) = \\frac{e^x}{1+e^x}$$\n"
   ]
  },
  {
   "cell_type": "markdown",
   "metadata": {
    "slideshow": {
     "slide_type": "fragment"
    }
   },
   "source": [
    "Note that this is also equivalent to the following:\n",
    "$$\\sigma(x) = \\frac{1}{1+e^{-x}}$$"
   ]
  },
  {
   "cell_type": "code",
   "execution_count": 8,
   "metadata": {
    "slideshow": {
     "slide_type": "slide"
    }
   },
   "outputs": [],
   "source": [
    "x = np.linspace(-10, 10, 1000)\n",
    "y = np.exp(x)/(1+np.exp(x))"
   ]
  },
  {
   "cell_type": "code",
   "execution_count": 9,
   "metadata": {
    "slideshow": {
     "slide_type": "fragment"
    }
   },
   "outputs": [
    {
     "data": {
      "image/png": "[encoded data removed]",
      "text/plain": [
       "<Figure size 432x288 with 1 Axes>"
      ]
     },
     "metadata": {
      "needs_background": "light"
     },
     "output_type": "display_data"
    }
   ],
   "source": [
    "plt.plot(x, y)\n",
    "plt.title('Logistic Function')\n",
    "plt.xlabel('x')\n",
    "plt.ylabel('$\\sigma(x)$')\n",
    "plt.show()"
   ]
  },
  {
   "cell_type": "markdown",
   "metadata": {
    "slideshow": {
     "slide_type": "slide"
    }
   },
   "source": [
    "## Logistic Regression"
   ]
  },
  {
   "cell_type": "markdown",
   "metadata": {
    "slideshow": {
     "slide_type": "slide"
    }
   },
   "source": [
    "$$ P(y=1|x) = \\frac{e^{\\textbf{w}^T \\textbf{x}}}{1 + e^{\\textbf{w}^T\\textbf{x}}} $$"
   ]
  },
  {
   "cell_type": "markdown",
   "metadata": {
    "slideshow": {
     "slide_type": "slide"
    }
   },
   "source": [
    "$$ P(y = 0 | x) = 1 - \\frac{e^{\\textbf{w}^T \\textbf{x}}}{1 + e^{\\textbf{w}^T\\textbf{x}}} $$"
   ]
  },
  {
   "cell_type": "markdown",
   "metadata": {
    "slideshow": {
     "slide_type": "subslide"
    }
   },
   "source": [
    "$$ =  \\frac{1 + e^{\\textbf{w}^T\\textbf{x}}}{1 + e^{\\textbf{w}^T\\textbf{x}}} - \\frac{e^{\\textbf{w}^T \\textbf{x}}}{1 + e^{\\textbf{w}^T\\textbf{x}}}$$"
   ]
  },
  {
   "cell_type": "markdown",
   "metadata": {
    "slideshow": {
     "slide_type": "fragment"
    }
   },
   "source": [
    "$$  = \\frac{1}{1+e^{\\textbf{w}^T\\textbf{x}}} $$"
   ]
  },
  {
   "cell_type": "markdown",
   "metadata": {
    "slideshow": {
     "slide_type": "slide"
    }
   },
   "source": [
    "$$ \\frac{p(y=1|x)}{p(y=0|x)} = e^{\\textbf{w}^T\\textbf{x}} $$"
   ]
  },
  {
   "cell_type": "markdown",
   "metadata": {
    "slideshow": {
     "slide_type": "slide"
    }
   },
   "source": [
    "The term \n",
    "$$ \\frac{p(y =1|x)}{p(y=0|x)} $$ or more generally $$ \\frac{p}{1-p}$$  is known as *odds*. Odds can take values between 0 and $\\infty$. This is used predominantly in betting. For example, a probability of 0.2 corresponds to odds of 1:4."
   ]
  },
  {
   "cell_type": "markdown",
   "metadata": {
    "slideshow": {
     "slide_type": "subslide"
    }
   },
   "source": [
    "If we take the logarithm of both sides, we're left with \n",
    "$$ \\log \\frac{p}{1-p} = \\textbf{w}^T\\textbf{x} $$\n",
    "\n",
    "which looks like linear regression!\n",
    "\n",
    "The right hand side, in statistical notation, is \n",
    "\n",
    "$$ \\beta_0 + \\beta_1x_1 + \\beta_2x_2 ... $$"
   ]
  },
  {
   "cell_type": "markdown",
   "metadata": {
    "slideshow": {
     "slide_type": "slide"
    }
   },
   "source": [
    "## Interpretation of coefficients"
   ]
  },
  {
   "cell_type": "markdown",
   "metadata": {
    "slideshow": {
     "slide_type": "subslide"
    }
   },
   "source": [
    "#### Odds Ratio"
   ]
  },
  {
   "cell_type": "markdown",
   "metadata": {
    "slideshow": {
     "slide_type": "subslide"
    }
   },
   "source": [
    "$$ y_1 = e^{\\beta_0 + \\beta_1x_1 + \\beta_2x_2} $$"
   ]
  },
  {
   "cell_type": "markdown",
   "metadata": {
    "slideshow": {
     "slide_type": "fragment"
    }
   },
   "source": [
    "$$ y_2 = e^{\\beta_0 + \\beta_1(x_1+1) + \\beta_2x2}$$"
   ]
  },
  {
   "cell_type": "markdown",
   "metadata": {
    "slideshow": {
     "slide_type": "fragment"
    }
   },
   "source": [
    "$$ \\frac{y_2}{y_1} = \\frac{e^{\\beta_0 + \\beta_1(x_1+1) + \\beta_2x_2}}{e^{\\beta_0 + \\beta_1x_1 + \\beta_2x_2}}$$"
   ]
  },
  {
   "cell_type": "markdown",
   "metadata": {
    "slideshow": {
     "slide_type": "fragment"
    }
   },
   "source": [
    "$$\\frac{y_2}{y_1} = e^{\\beta_1}$$"
   ]
  },
  {
   "cell_type": "markdown",
   "metadata": {
    "slideshow": {
     "slide_type": "fragment"
    }
   },
   "source": [
    "Where $\\frac{y_2}{y_1}$ is the *odds ratio*"
   ]
  },
  {
   "cell_type": "markdown",
   "metadata": {
    "slideshow": {
     "slide_type": "slide"
    }
   },
   "source": [
    "#### log Odds"
   ]
  },
  {
   "cell_type": "markdown",
   "metadata": {
    "slideshow": {
     "slide_type": "subslide"
    }
   },
   "source": [
    "$$\\log \\frac{p}{1-p} = \\beta_0 + \\beta_1x_1 + \\beta_2x_2 $$"
   ]
  },
  {
   "cell_type": "markdown",
   "metadata": {
    "slideshow": {
     "slide_type": "skip"
    }
   },
   "source": [
    "____"
   ]
  },
  {
   "cell_type": "markdown",
   "metadata": {
    "slideshow": {
     "slide_type": "slide"
    }
   },
   "source": [
    "# Gradient Descent"
   ]
  },
  {
   "cell_type": "markdown",
   "metadata": {
    "slideshow": {
     "slide_type": "subslide"
    }
   },
   "source": [
    "How do we estimate the weights, _w_ or coefficients, $\\beta$? Minimize the loss! (Or equivalently, maximize the likelihood)"
   ]
  },
  {
   "cell_type": "markdown",
   "metadata": {
    "slideshow": {
     "slide_type": "fragment"
    }
   },
   "source": [
    "As a reminder, the gradient, $\\nabla$, is defined as a vector of the partial derivatives of a function with respect to the dimensions in question."
   ]
  },
  {
   "cell_type": "markdown",
   "metadata": {
    "slideshow": {
     "slide_type": "slide"
    }
   },
   "source": [
    "Specifically, we are interested in the gradient of the loss function with respect to each of the parameters of the model. For example, if we have a loss function:\n",
    "\n",
    "$$ l(w) $$\n",
    "\n",
    "and a model $$ y = w_0 + w_1x_1 + w_2x_2$$\n",
    "The gradient $\\nabla l$ can be written as\n",
    "\n",
    "$$ \\begin{bmatrix} \\frac{\\partial l}{\\partial w_0} \\\\ \\frac{\\partial l}{\\partial w_1} \\\\ \\frac{\\partial l}{\\partial w_2} \\end{bmatrix} $$"
   ]
  },
  {
   "cell_type": "markdown",
   "metadata": {
    "slideshow": {
     "slide_type": "slide"
    }
   },
   "source": [
    "Here, we introduce the algorithm known as Gradient Descent/Gradient Ascent. The gradient \n",
    "\n",
    "$$ \\nabla F(\\textbf{x})$$ points in the direction of steepest ascent for F. "
   ]
  },
  {
   "cell_type": "markdown",
   "metadata": {
    "slideshow": {
     "slide_type": "slide"
    }
   },
   "source": [
    "![](./assets/steepest.png)\n",
    "Bamshad Mabasher\n",
    "DePaul University"
   ]
  },
  {
   "cell_type": "markdown",
   "metadata": {
    "slideshow": {
     "slide_type": "slide"
    }
   },
   "source": [
    "![](./assets/steepest_ascent.png)"
   ]
  },
  {
   "cell_type": "markdown",
   "metadata": {
    "slideshow": {
     "slide_type": "slide"
    }
   },
   "source": [
    "$$ P(y=1|X) = \\frac{1}{1+e^{-\\textbf{w}^T\\textbf{x}}}$$"
   ]
  },
  {
   "cell_type": "markdown",
   "metadata": {
    "slideshow": {
     "slide_type": "fragment"
    }
   },
   "source": [
    "Here, $\\textbf{w}$ is made up of a bias term, $b$ and weights $w_i$ from $i = 1...j$"
   ]
  },
  {
   "cell_type": "markdown",
   "metadata": {
    "slideshow": {
     "slide_type": "fragment"
    }
   },
   "source": [
    "For logistic regression, we use the *cross-entropy* loss, which is given by \n",
    "\n",
    "$$loss =  -y \\log \\sigma(\\textbf{w}^T\\textbf{x}) + (1-y) \\log (1 - \\sigma(\\textbf{w}^T\\textbf{x})) $$"
   ]
  },
  {
   "cell_type": "markdown",
   "metadata": {
    "slideshow": {
     "slide_type": "slide"
    }
   },
   "source": [
    "What we would like to do is to get the average loss over all y's and x's. Here, I've omitted the negative sign out front, to turn this into a likelihood maximization problem. So we get the following expression:\n",
    "\n",
    "$$\\frac{1}{m}\\sum_{i=1}^{m}y^{(i)} \\log \\sigma(\\textbf{w}^T\\textbf{x}^{(i)}) + (1-y^{(i)}) \\log (1- \\sigma(\\textbf{w}^T\\textbf{x}^{(i)}) $$"
   ]
  },
  {
   "cell_type": "markdown",
   "metadata": {
    "slideshow": {
     "slide_type": "fragment"
    }
   },
   "source": [
    "for $i = 1...m$ training examples"
   ]
  },
  {
   "cell_type": "markdown",
   "metadata": {
    "slideshow": {
     "slide_type": "subslide"
    }
   },
   "source": [
    "Now, we need to take the gradient of this function with respect to each of our weights.\n",
    "\n"
   ]
  },
  {
   "cell_type": "markdown",
   "metadata": {
    "slideshow": {
     "slide_type": "slide"
    }
   },
   "source": [
    "Before we do that, here is a convenient mathematical trick:\n",
    "\n",
    "$$\\sigma(x) = \\frac{1}{1+e^{-x}} = (1+e^{-x})^{-1}$$"
   ]
  },
  {
   "cell_type": "markdown",
   "metadata": {
    "slideshow": {
     "slide_type": "fragment"
    }
   },
   "source": [
    "$$ \\frac{d}{dx}\\sigma(x) = -(1+e^{-x})^{-2}(-e^{-x})$$ "
   ]
  },
  {
   "cell_type": "markdown",
   "metadata": {
    "slideshow": {
     "slide_type": "fragment"
    }
   },
   "source": [
    "$$ = \\frac{e^{-x}}{(1+e^{-x})^2}$$"
   ]
  },
  {
   "cell_type": "markdown",
   "metadata": {
    "slideshow": {
     "slide_type": "subslide"
    }
   },
   "source": [
    "$$ = \\frac{1}{1+e^{-x}} * \\frac{e^{-x}}{1+e^{-x}}$$"
   ]
  },
  {
   "cell_type": "markdown",
   "metadata": {
    "slideshow": {
     "slide_type": "fragment"
    }
   },
   "source": [
    "$$ = \\frac{1}{1+e^{-x}}\\big(\\frac{1+e^{-x}}{1+e^{-x}} - \\frac{1}{1+e^{-x}}\\big)$$"
   ]
  },
  {
   "cell_type": "markdown",
   "metadata": {
    "slideshow": {
     "slide_type": "fragment"
    }
   },
   "source": [
    "$$ \\sigma'(x)= \\sigma(x)(1-\\sigma(x)) $$"
   ]
  },
  {
   "cell_type": "markdown",
   "metadata": {
    "slideshow": {
     "slide_type": "slide"
    }
   },
   "source": [
    "#### Partial derivatives of the loss function with respect to weights"
   ]
  },
  {
   "cell_type": "markdown",
   "metadata": {
    "slideshow": {
     "slide_type": "subslide"
    }
   },
   "source": [
    "Now, we want to find the derivative of the loss function,\n",
    "\n",
    "$$l(w) = y^{(i)} \\log \\sigma(\\textbf{w}^T\\textbf{x}^{(i)}) + (1 - y^{(i)}) \\log (1 - \\sigma(\\textbf{w}^T\\textbf{x}^{(i)})$$"
   ]
  },
  {
   "cell_type": "markdown",
   "metadata": {
    "slideshow": {
     "slide_type": "skip"
    }
   },
   "source": [
    "with respect to the weights w"
   ]
  },
  {
   "cell_type": "markdown",
   "metadata": {
    "slideshow": {
     "slide_type": "fragment"
    }
   },
   "source": [
    "Let's say that $\\textbf{x}$ is $p$-dimensional, indexed by $j = 1...p$"
   ]
  },
  {
   "cell_type": "markdown",
   "metadata": {
    "slideshow": {
     "slide_type": "fragment"
    }
   },
   "source": [
    "We have:\n",
    "    \n",
    "$$ \\frac{\\partial}{\\partial{w_j}}l(w) = \\frac{y}{\\sigma(\\textbf{w}^T\\textbf{x})} \\frac{\\partial}{\\partial{w_j}}\\sigma(\\textbf{w}^T\\textbf{x}) + \\frac{1-y}{(1-\\sigma(\\textbf{w}^T\\textbf{x}))} \\frac{\\partial}{\\partial{w_j}}(1 -\\sigma(\\textbf{w}^T\\textbf{x}))$$"
   ]
  },
  {
   "cell_type": "markdown",
   "metadata": {
    "slideshow": {
     "slide_type": "notes"
    }
   },
   "source": [
    "Using the chain rule, and the fact that $\\sigma'(x) = \\sigma(x)(1-\\sigma(x))$"
   ]
  },
  {
   "cell_type": "markdown",
   "metadata": {
    "slideshow": {
     "slide_type": "subslide"
    }
   },
   "source": [
    "$$ = \\frac{y}{\\sigma(\\textbf{w}^T\\textbf{x})} \\sigma(\\textbf{w}^T\\textbf{x})(1-\\sigma(\\textbf{w}^T\\textbf{x}))x_j - \\frac{1-y}{(1-\\sigma(\\textbf{w}^T\\textbf{x}))} \\sigma(\\textbf{w}^T\\textbf{x})(1-\\sigma(\\textbf{w}^T\\textbf{x}))x_j$$"
   ]
  },
  {
   "cell_type": "markdown",
   "metadata": {
    "slideshow": {
     "slide_type": "fragment"
    }
   },
   "source": [
    "$$ = y (1 - \\sigma(\\textbf{w}^T\\textbf{x}))x_j - (1-y)\\sigma(\\textbf{w}^T\\textbf{x})x_j$$"
   ]
  },
  {
   "cell_type": "markdown",
   "metadata": {
    "slideshow": {
     "slide_type": "fragment"
    }
   },
   "source": [
    "$$ = (y - y\\sigma(\\textbf{w}^T\\textbf{x}) - \\sigma(\\textbf{w}^T\\textbf{x}) + y\\sigma(\\textbf{w}^T\\textbf{x}))x_j $$"
   ]
  },
  {
   "cell_type": "markdown",
   "metadata": {
    "slideshow": {
     "slide_type": "fragment"
    }
   },
   "source": [
    "$$ = (y - \\sigma(\\textbf{w}^T\\textbf{x}))x_j $$"
   ]
  },
  {
   "cell_type": "markdown",
   "metadata": {
    "slideshow": {
     "slide_type": "subslide"
    }
   },
   "source": [
    "Let's take a step back and realize what this means. The partial derivative of the loss function with respect to any of the weights, is just the actual predictive error multiplied by the magnitude of the x value that corresponds with the weight. "
   ]
  },
  {
   "cell_type": "markdown",
   "metadata": {
    "slideshow": {
     "slide_type": "slide"
    }
   },
   "source": [
    "## Gradient Ascent/Descent update equation: \n",
    "\n",
    "We want to move in the direction of the gradient (if we are maximizing the likelihood -- known as gradient ascent) or going against the direction of the gradient (minimizing loss -- gradient descent)\n",
    "\n",
    "For Gradient Ascent:\n",
    "\n",
    "$$ w_j \\leftarrow w_j + \\alpha(y-\\sigma(\\textbf{w}^T\\textbf{x}))x_j $$\n",
    "\n",
    "Gradient Descent:\n",
    "\n",
    "$$ w_j \\leftarrow w_j - \\alpha(\\sigma(\\textbf{w}^T\\textbf{x} - y))x_j $$\n",
    "\n",
    "where $\\alpha$ is the learning rate.\n"
   ]
  },
  {
   "cell_type": "markdown",
   "metadata": {
    "slideshow": {
     "slide_type": "slide"
    }
   },
   "source": [
    "## Learning Rate"
   ]
  },
  {
   "cell_type": "markdown",
   "metadata": {
    "slideshow": {
     "slide_type": "fragment"
    }
   },
   "source": [
    "Notice that in the update equations above, there is an $\\alpha$ term. This is sometimes also shown as $\\eta$. Essentially, it describes the *step size* that we take in the direction of the gradient. If this number is too high, it can be possible to overshoot the minimum/maximum, and if it is too low, it may take a long time to converge."
   ]
  },
  {
   "cell_type": "markdown",
   "metadata": {
    "slideshow": {
     "slide_type": "slide"
    }
   },
   "source": [
    "![](./assets/learningrate.png)"
   ]
  },
  {
   "cell_type": "markdown",
   "metadata": {
    "slideshow": {
     "slide_type": "slide"
    }
   },
   "source": [
    "## Variants of Gradient Descent/Ascent\n",
    "http://ruder.io/optimizing-gradient-descent/"
   ]
  },
  {
   "cell_type": "markdown",
   "metadata": {
    "slideshow": {
     "slide_type": "slide"
    }
   },
   "source": [
    "## Batch Gradient Descent"
   ]
  },
  {
   "cell_type": "markdown",
   "metadata": {
    "slideshow": {
     "slide_type": "subslide"
    }
   },
   "source": [
    "The standard Gradient Descent approach is known as Bach Gradient Descent, or just Gradient Descent. We compute the average gradient over all weights over the entire dataset, and then apply the update equation once. This has some advantages and disadvantages"
   ]
  },
  {
   "cell_type": "markdown",
   "metadata": {
    "slideshow": {
     "slide_type": "fragment"
    }
   },
   "source": [
    "Advantages:\n",
    "    * Always head in the right direction\n",
    "Disadvantages:\n",
    "    * Not efficient in memory or in computation (have to compute over whole dataset)\n",
    "   "
   ]
  },
  {
   "cell_type": "markdown",
   "metadata": {
    "slideshow": {
     "slide_type": "slide"
    }
   },
   "source": [
    "## Stochastic Gradient Descent"
   ]
  },
  {
   "cell_type": "markdown",
   "metadata": {
    "slideshow": {
     "slide_type": "fragment"
    }
   },
   "source": [
    "In stochastic gradient descent, we simply shuffle all of our training examples, and then iterate 1 at a time."
   ]
  },
  {
   "cell_type": "markdown",
   "metadata": {
    "slideshow": {
     "slide_type": "fragment"
    }
   },
   "source": [
    "$$ w_j \\leftarrow w_j + \\alpha(y-\\sigma(\\textbf{w}^T\\textbf{x}))x_j $$"
   ]
  },
  {
   "cell_type": "markdown",
   "metadata": {
    "slideshow": {
     "slide_type": "fragment"
    }
   },
   "source": [
    "gets applied for every single training example. "
   ]
  },
  {
   "cell_type": "markdown",
   "metadata": {
    "slideshow": {
     "slide_type": "fragment"
    }
   },
   "source": [
    "This is a noisy operation!"
   ]
  },
  {
   "cell_type": "markdown",
   "metadata": {
    "slideshow": {
     "slide_type": "slide"
    }
   },
   "source": [
    "![](./assets/batchsgd.png)"
   ]
  }
 ],
 "metadata": {
  "celltoolbar": "Slideshow",
  "kernelspec": {
   "display_name": "Python 3",
   "language": "python",
   "name": "python3"
  },
  "language_info": {
   "codemirror_mode": {
    "name": "ipython",
    "version": 3
   },
   "file_extension": ".py",
   "mimetype": "text/x-python",
   "name": "python",
   "nbconvert_exporter": "python",
   "pygments_lexer": "ipython3",
   "version": "3.7.2"
  }
 },
 "nbformat": 4,
 "nbformat_minor": 2
}
